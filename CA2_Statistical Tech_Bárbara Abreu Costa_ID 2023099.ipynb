{
 "cells": [
  {
   "cell_type": "markdown",
   "id": "d405a694",
   "metadata": {},
   "source": [
    "# <div style=\"padding:20px;color:white;margin:0;font-size:35px;font-family:arial;text-align:center;display:fill;border-radius:5px;background-color:mediumaquamarine;overflow:hidden\"><b>H DIP IN DATA ANALYTICS FOR BUSINESS (FT)</b></div>"
   ]
  },
  {
   "cell_type": "markdown",
   "id": "87f92860",
   "metadata": {},
   "source": [
    "<a id=\"1.1\"></a>\n",
    "<h2 style=\"font-family:arial;text-align:center; font-size: 28px; font-style: normal; font-weight: normal; text-decoration: none; text-transform: none;color:mediumaquamarine; background-color: #ffffff;\"> <b>STATISTICAL TECHNIQUES FOR DATA ANALYSIS</b></h2>"
   ]
  },
  {
   "cell_type": "markdown",
   "id": "bc3a7963",
   "metadata": {},
   "source": [
    "ASSESSMENT TITLE: CA2\n",
    "\n",
    "LECTURER NAME: JOHN O’SULLIVAN\n",
    "\n",
    "STUDENT FULL NAME: BÁRBARA ABREU COSTA\n",
    "\n",
    "STUDENT NUMBER: 2023099\n",
    "\n",
    "ASSESSMENT DUE DATE: FRIDAY, 28TH OF APRIL 2023\n",
    "\n",
    "DATE OF SUBMISSION: MONDAY, 22TH OF MAY 2023</b> </h2> "
   ]
  },
  {
   "cell_type": "markdown",
   "id": "77538d55",
   "metadata": {},
   "source": [
    "------------------------------------------------------------------"
   ]
  },
  {
   "cell_type": "markdown",
   "id": "9e6c338d",
   "metadata": {},
   "source": [
    "    Before start running the codes, we need do make sure we have the necessary libraries installed."
   ]
  },
  {
   "cell_type": "code",
   "execution_count": 1,
   "id": "ba30ef3b",
   "metadata": {},
   "outputs": [],
   "source": [
    "import pandas as pd\n",
    "import statistics as stats\n",
    "import numpy as np\n",
    "import matplotlib.pyplot as plt\n",
    "import matplotlib.image as mpimg\n",
    "import seaborn as sns\n",
    "import math\n",
    "\n",
    "from scipy.stats import f_oneway\n",
    "from statsmodels.stats.multicomp import pairwise_tukeyhsd"
   ]
  },
  {
   "cell_type": "code",
   "execution_count": 2,
   "id": "65096220",
   "metadata": {},
   "outputs": [
    {
     "name": "stdout",
     "output_type": "stream",
     "text": [
      "Requirement already satisfied: pydataset in c:\\users\\barba\\anaconda3\\lib\\site-packages (0.2.0)\n",
      "Requirement already satisfied: pandas in c:\\users\\barba\\anaconda3\\lib\\site-packages (from pydataset) (1.4.4)\n",
      "Requirement already satisfied: python-dateutil>=2.8.1 in c:\\users\\barba\\anaconda3\\lib\\site-packages (from pandas->pydataset) (2.8.2)\n",
      "Requirement already satisfied: numpy>=1.18.5 in c:\\users\\barba\\anaconda3\\lib\\site-packages (from pandas->pydataset) (1.23.5)\n",
      "Requirement already satisfied: pytz>=2020.1 in c:\\users\\barba\\anaconda3\\lib\\site-packages (from pandas->pydataset) (2022.1)\n",
      "Requirement already satisfied: six>=1.5 in c:\\users\\barba\\anaconda3\\lib\\site-packages (from python-dateutil>=2.8.1->pandas->pydataset) (1.16.0)\n"
     ]
    }
   ],
   "source": [
    "!pip install pydataset"
   ]
  },
  {
   "cell_type": "markdown",
   "id": "0ff5bfd3",
   "metadata": {},
   "source": [
    "# <div style=\"padding:20px;color:white;margin:0;font-size:35px;font-family:arial;text-align:center;display:fill;border-radius:5px;background-color:mediumaquamarine;overflow:hidden\"><b>TASK 1</b></div>"
   ]
  },
  {
   "cell_type": "markdown",
   "id": "3a01f5d0",
   "metadata": {},
   "source": [
    "##### Load the dataset Q1.csv. It contains the exam scores (in percentages) of a sample of 50 students from a Dublin secondary school."
   ]
  },
  {
   "cell_type": "markdown",
   "id": "4b022f0c",
   "metadata": {},
   "source": [
    "    We can load the dataset calling the function .read_csv()"
   ]
  },
  {
   "cell_type": "code",
   "execution_count": 3,
   "id": "95dfd01b",
   "metadata": {},
   "outputs": [],
   "source": [
    "df = pd.read_csv('Q1.csv')"
   ]
  },
  {
   "cell_type": "markdown",
   "id": "6b15697c",
   "metadata": {},
   "source": [
    "    The .head() function show us the five first rows in our dataset"
   ]
  },
  {
   "cell_type": "code",
   "execution_count": 4,
   "id": "2671de70",
   "metadata": {},
   "outputs": [
    {
     "data": {
      "text/html": [
       "<div>\n",
       "<style scoped>\n",
       "    .dataframe tbody tr th:only-of-type {\n",
       "        vertical-align: middle;\n",
       "    }\n",
       "\n",
       "    .dataframe tbody tr th {\n",
       "        vertical-align: top;\n",
       "    }\n",
       "\n",
       "    .dataframe thead th {\n",
       "        text-align: right;\n",
       "    }\n",
       "</style>\n",
       "<table border=\"1\" class=\"dataframe\">\n",
       "  <thead>\n",
       "    <tr style=\"text-align: right;\">\n",
       "      <th></th>\n",
       "      <th>exam_score</th>\n",
       "    </tr>\n",
       "  </thead>\n",
       "  <tbody>\n",
       "    <tr>\n",
       "      <th>0</th>\n",
       "      <td>74.54</td>\n",
       "    </tr>\n",
       "    <tr>\n",
       "      <th>1</th>\n",
       "      <td>66.20</td>\n",
       "    </tr>\n",
       "    <tr>\n",
       "      <th>2</th>\n",
       "      <td>86.75</td>\n",
       "    </tr>\n",
       "    <tr>\n",
       "      <th>3</th>\n",
       "      <td>70.87</td>\n",
       "    </tr>\n",
       "    <tr>\n",
       "      <th>4</th>\n",
       "      <td>80.43</td>\n",
       "    </tr>\n",
       "  </tbody>\n",
       "</table>\n",
       "</div>"
      ],
      "text/plain": [
       "   exam_score\n",
       "0       74.54\n",
       "1       66.20\n",
       "2       86.75\n",
       "3       70.87\n",
       "4       80.43"
      ]
     },
     "execution_count": 4,
     "metadata": {},
     "output_type": "execute_result"
    }
   ],
   "source": [
    "df.head()"
   ]
  },
  {
   "cell_type": "markdown",
   "id": "bf753aea",
   "metadata": {},
   "source": [
    "##### a. Find and comment on important summary statistics and produce an appropriate plot to summarise the dataset."
   ]
  },
  {
   "cell_type": "markdown",
   "id": "da86982f",
   "metadata": {},
   "source": [
    "    To calculates summary statistics we use .describe()"
   ]
  },
  {
   "cell_type": "code",
   "execution_count": 5,
   "id": "4597e08b",
   "metadata": {},
   "outputs": [
    {
     "data": {
      "text/html": [
       "<div>\n",
       "<style scoped>\n",
       "    .dataframe tbody tr th:only-of-type {\n",
       "        vertical-align: middle;\n",
       "    }\n",
       "\n",
       "    .dataframe tbody tr th {\n",
       "        vertical-align: top;\n",
       "    }\n",
       "\n",
       "    .dataframe thead th {\n",
       "        text-align: right;\n",
       "    }\n",
       "</style>\n",
       "<table border=\"1\" class=\"dataframe\">\n",
       "  <thead>\n",
       "    <tr style=\"text-align: right;\">\n",
       "      <th></th>\n",
       "      <th>exam_score</th>\n",
       "    </tr>\n",
       "  </thead>\n",
       "  <tbody>\n",
       "    <tr>\n",
       "      <th>count</th>\n",
       "      <td>50.000000</td>\n",
       "    </tr>\n",
       "    <tr>\n",
       "      <th>mean</th>\n",
       "      <td>68.735600</td>\n",
       "    </tr>\n",
       "    <tr>\n",
       "      <th>std</th>\n",
       "      <td>9.750143</td>\n",
       "    </tr>\n",
       "    <tr>\n",
       "      <th>min</th>\n",
       "      <td>48.730000</td>\n",
       "    </tr>\n",
       "    <tr>\n",
       "      <th>25%</th>\n",
       "      <td>62.040000</td>\n",
       "    </tr>\n",
       "    <tr>\n",
       "      <th>50%</th>\n",
       "      <td>68.390000</td>\n",
       "    </tr>\n",
       "    <tr>\n",
       "      <th>75%</th>\n",
       "      <td>74.630000</td>\n",
       "    </tr>\n",
       "    <tr>\n",
       "      <th>max</th>\n",
       "      <td>87.360000</td>\n",
       "    </tr>\n",
       "  </tbody>\n",
       "</table>\n",
       "</div>"
      ],
      "text/plain": [
       "       exam_score\n",
       "count   50.000000\n",
       "mean    68.735600\n",
       "std      9.750143\n",
       "min     48.730000\n",
       "25%     62.040000\n",
       "50%     68.390000\n",
       "75%     74.630000\n",
       "max     87.360000"
      ]
     },
     "execution_count": 5,
     "metadata": {},
     "output_type": "execute_result"
    }
   ],
   "source": [
    "df.describe()"
   ]
  },
  {
   "cell_type": "code",
   "execution_count": 6,
   "id": "382cb6f4",
   "metadata": {},
   "outputs": [
    {
     "data": {
      "text/plain": [
       "exam_score    68.39\n",
       "dtype: float64"
      ]
     },
     "execution_count": 6,
     "metadata": {},
     "output_type": "execute_result"
    }
   ],
   "source": [
    "df.median()"
   ]
  },
  {
   "cell_type": "markdown",
   "id": "cd89ab1f",
   "metadata": {},
   "source": [
    "> As we can notice, our mean (68.73) and median (68.39) are close in value, it indicates that the distribution of the 'exam_score' is relatively symmetric or close to a normal distribution without significant skewness or extreme outliers."
   ]
  },
  {
   "cell_type": "markdown",
   "id": "7cfd83ed",
   "metadata": {},
   "source": [
    "    To produce an appropriate plot to summarise the dataset we'll first create a dictionary of the summary statistics"
   ]
  },
  {
   "cell_type": "code",
   "execution_count": 7,
   "id": "78e7933e",
   "metadata": {},
   "outputs": [],
   "source": [
    "summary_stats = {\n",
    "    'count': 50.000000,\n",
    "    'mean': 68.735600,\n",
    "    'std': 9.750143,\n",
    "    'min': 48.730000,\n",
    "    '25%': 62.040000,\n",
    "    '50%': 68.390000,\n",
    "    '75%': 74.630000,\n",
    "    'max': 87.360000\n",
    "}"
   ]
  },
  {
   "cell_type": "markdown",
   "id": "f5344457",
   "metadata": {},
   "source": [
    "    Now, we can create a bar plot of the summary statistics"
   ]
  },
  {
   "cell_type": "code",
   "execution_count": 8,
   "id": "1ae18976",
   "metadata": {},
   "outputs": [
    {
     "data": {
      "image/png": "[encoded data removed]",
      "text/plain": [
       "<Figure size 640x480 with 1 Axes>"
      ]
     },
     "metadata": {},
     "output_type": "display_data"
    }
   ],
   "source": [
    "fig, ax = plt.subplots()\n",
    "ax.axhline(y=summary_stats['mean'], color='red', linestyle='--', label='Mean')\n",
    "ax.bar(summary_stats.keys(), summary_stats.values())\n",
    "plt.title('Exam Scores Summary Statistics')\n",
    "plt.xlabel('Statistics')\n",
    "plt.ylabel('Values')\n",
    "plt.legend(loc='best')\n",
    "plt.show()"
   ]
  },
  {
   "cell_type": "markdown",
   "id": "81436687",
   "metadata": {},
   "source": [
    "> Based on the summary statistics, we can conclude that the students average exam score is around 68.74% (mean), with a moderate amount of variability of 9.75 (standard deviation). The majority of the students scores fall within the range of approximately 62% to 75%, as indicated by the interquartile range (Q1 to Q3). The minimum and maximum scores show that the dataset covers a range of performance levels, with the lowest score at 48.73% and the highest score at 87.36%."
   ]
  },
  {
   "cell_type": "markdown",
   "id": "f95519ca",
   "metadata": {},
   "source": [
    "    We can also generates a histogram of the exam scores, for that we gonna use Matplotlib's .hist()"
   ]
  },
  {
   "cell_type": "code",
   "execution_count": 9,
   "id": "38397f2b",
   "metadata": {},
   "outputs": [
    {
     "data": {
      "image/png": "[encoded data removed]",
      "text/plain": [
       "<Figure size 640x480 with 1 Axes>"
      ]
     },
     "metadata": {},
     "output_type": "display_data"
    }
   ],
   "source": [
    "import matplotlib.pyplot as plt\n",
    "\n",
    "# Histogram plot\n",
    "plt.hist(df['exam_score'], bins=10, edgecolor='black')\n",
    "\n",
    "# Calculate and plot the mean\n",
    "mean_score = df['exam_score'].mean()\n",
    "plt.axvline(x=mean_score, color='red', linestyle='--', label='Mean')\n",
    "\n",
    "# Plot the national average\n",
    "national_average = 70\n",
    "plt.axvline(x=national_average, color='blue', linestyle='--', label='National Average')\n",
    "\n",
    "# Customize the plot\n",
    "plt.xlabel('Exam Score')\n",
    "plt.ylabel('Frequency')\n",
    "plt.title('Distribution of Exam Scores')\n",
    "plt.legend()\n",
    "plt.show()\n"
   ]
  },
  {
   "cell_type": "markdown",
   "id": "8119c289",
   "metadata": {},
   "source": [
    "> The plot above provides an overview of the distribution of exam scores. It allows us to visualize how the scores are spread across different ranges, by looking it we can observe the frequency in each one.\n",
    "> The red dashed line represents the MEANS score of the exam scores that is a measure of central tendency that gives an indication of the average score. By plotting the mean on the histogram, you can see how it relates to the overall distribution. The blue dashed line represents the NATIONAL AVERAGE score, which is set at 70. This line provides a reference point for comparison purposes."
   ]
  },
  {
   "cell_type": "code",
   "execution_count": 10,
   "id": "32b663c1",
   "metadata": {},
   "outputs": [
    {
     "data": {
      "text/plain": [
       "exam_score    0.014452\n",
       "dtype: float64"
      ]
     },
     "execution_count": 10,
     "metadata": {},
     "output_type": "execute_result"
    }
   ],
   "source": [
    "df.skew()"
   ]
  },
  {
   "cell_type": "code",
   "execution_count": 11,
   "id": "509f777c",
   "metadata": {},
   "outputs": [
    {
     "data": {
      "text/plain": [
       "[Text(0.5, 0, 'Exam Score'), Text(0, 0.5, 'Number of Scores')]"
      ]
     },
     "execution_count": 11,
     "metadata": {},
     "output_type": "execute_result"
    },
    {
     "data": {
      "image/png": "[encoded data removed]",
      "text/plain": [
       "<Figure size 640x480 with 1 Axes>"
      ]
     },
     "metadata": {},
     "output_type": "display_data"
    }
   ],
   "source": [
    "ax = sns.histplot(df.exam_score, bins=7, kde=True, color='navy')\n",
    "ax.set(xlabel='Exam Score',\n",
    "       ylabel='Number of Scores')"
   ]
  },
  {
   "cell_type": "markdown",
   "id": "2af70632",
   "metadata": {},
   "source": [
    "> These findings suggest that there is some variation in student performance on the exam, with some students receiving better scores than others. A visual representation of the distribution may be seen in the histogram, which can be used to identify any patterns or outliers in the sample."
   ]
  },
  {
   "cell_type": "markdown",
   "id": "2dad0d88",
   "metadata": {},
   "source": [
    "    We can also produce a box plot, that shows us the data distribution is symmetric."
   ]
  },
  {
   "cell_type": "code",
   "execution_count": 12,
   "id": "7b28132b",
   "metadata": {},
   "outputs": [
    {
     "data": {
      "text/plain": [
       "<AxesSubplot:>"
      ]
     },
     "execution_count": 12,
     "metadata": {},
     "output_type": "execute_result"
    },
    {
     "data": {
      "image/png": "[encoded data removed]",
      "text/plain": [
       "<Figure size 640x480 with 1 Axes>"
      ]
     },
     "metadata": {},
     "output_type": "display_data"
    }
   ],
   "source": [
    "sns.boxplot(data=df)"
   ]
  },
  {
   "cell_type": "code",
   "execution_count": 13,
   "id": "98af4c0f",
   "metadata": {},
   "outputs": [
    {
     "data": {
      "image/png": "[encoded data removed]",
      "text/plain": [
       "<Figure size 640x480 with 1 Axes>"
      ]
     },
     "metadata": {},
     "output_type": "display_data"
    }
   ],
   "source": [
    "import numpy as np\n",
    "import matplotlib.pyplot as plt\n",
    "\n",
    "# Summary statistics\n",
    "mean = 68.735600\n",
    "std = 9.750143\n",
    "\n",
    "# Generate normal distribution data\n",
    "data = np.random.normal(mean, std, 10000)\n",
    "\n",
    "# Plot the normal distribution\n",
    "plt.hist(data, bins=30, edgecolor='black', density=True, label='Normal Distribution')\n",
    "plt.xlabel('Exam Score')\n",
    "plt.ylabel('Probability Density')\n",
    "plt.title('Normal Distribution of Exam Scores')\n",
    "\n",
    "# Calculate and plot the mean curve\n",
    "x = np.linspace(data.min(), data.max(), 100)\n",
    "y = (1 / (std * np.sqrt(2 * np.pi))) * np.exp(-(x - mean) ** 2 / (2 * std ** 2))\n",
    "plt.plot(x, y, color='red', linestyle='--', label='Mean Curve')\n",
    "\n",
    "plt.legend()\n",
    "plt.show()\n"
   ]
  },
  {
   "cell_type": "markdown",
   "id": "a1360119",
   "metadata": {},
   "source": [
    "> The histogram represents the distribution of scores, with the x-axis representing the scores and the y-axis representing the probability density. The red dashed line shows the theoretical normal distribution curve based on the mean (68.735600) and standard deviation (9.750143). The curve is centered around the mean and follows a bell-shaped pattern. Overall, the plot visualizes the distribution of exam scores, with the majority of scores concentrated around the mean and the curve providing an approximation of the expected distribution based on the Summary statistics."
   ]
  },
  {
   "cell_type": "markdown",
   "id": "99306758",
   "metadata": {},
   "source": [
    "##### b. One of the teachers is concerned about the performance of the students in the school. She suspects that their performance may be below the reported national average of 70%. Does the data show that her concerns are justified? \n",
    "\n",
    "##### Use a significance level of alpha = 0.05."
   ]
  },
  {
   "cell_type": "markdown",
   "id": "6bb124bc",
   "metadata": {},
   "source": [
    "    To determine whether the concerns of the teacher about the students' performance being below the reported national average of 70% are justified, a hypothesis test can be conducted. Based on the dataset, we have the mean score of the exam as 68.735600. To test the hypothesis, we can perform a one-sample t-test comparing the mean score to the national average.\n",
    "    \n",
    "##### Where: \n",
    "\n",
    "    H0 - null hypothesis is that the mean score of the students is EQUAL to OR GREATER than the national average (μ >= 70). \n",
    "    H1 - alternative hypothesis is that the mean score is LESS than the national average (μ < 70).\n",
    "\n",
    "##### If:\n",
    "    \n",
    "    The p-value of the test is less than the significance level (alpha), we reject the null hypothesis, indicating evidence to support the alternative hypothesis.\n",
    "    "
   ]
  },
  {
   "cell_type": "markdown",
   "id": "ce07c078",
   "metadata": {},
   "source": [
    "    Now, to calculate the t-statistic and p-value for the one-sample t-test we need to import SciPy library"
   ]
  },
  {
   "cell_type": "code",
   "execution_count": 14,
   "id": "f3948bce",
   "metadata": {},
   "outputs": [],
   "source": [
    "import scipy.stats as stats"
   ]
  },
  {
   "cell_type": "markdown",
   "id": "72d90c9b",
   "metadata": {},
   "source": [
    "    Next we set the significance level"
   ]
  },
  {
   "cell_type": "code",
   "execution_count": 15,
   "id": "47013d09",
   "metadata": {},
   "outputs": [],
   "source": [
    "alpha = 0.05"
   ]
  },
  {
   "cell_type": "markdown",
   "id": "375ef780",
   "metadata": {},
   "source": [
    "    And the hypotheses"
   ]
  },
  {
   "cell_type": "code",
   "execution_count": 16,
   "id": "5a873c99",
   "metadata": {},
   "outputs": [],
   "source": [
    "H0 = 70\n",
    "Ha = 70"
   ]
  },
  {
   "cell_type": "markdown",
   "id": "fb410999",
   "metadata": {},
   "source": [
    "    Perform one-sample t-test"
   ]
  },
  {
   "cell_type": "code",
   "execution_count": 17,
   "id": "ff0b3fcc",
   "metadata": {},
   "outputs": [],
   "source": [
    "t_statistic, p_value = stats.ttest_1samp(df['exam_score'], H0)"
   ]
  },
  {
   "cell_type": "markdown",
   "id": "94467639",
   "metadata": {},
   "source": [
    "    Thus we got the following results:"
   ]
  },
  {
   "cell_type": "code",
   "execution_count": 18,
   "id": "a8e1b7f2",
   "metadata": {},
   "outputs": [
    {
     "data": {
      "text/plain": [
       "-0.9169771399834613"
      ]
     },
     "execution_count": 18,
     "metadata": {},
     "output_type": "execute_result"
    }
   ],
   "source": [
    "t_statistic"
   ]
  },
  {
   "cell_type": "code",
   "execution_count": 19,
   "id": "b0667d79",
   "metadata": {},
   "outputs": [
    {
     "data": {
      "text/plain": [
       "0.36364597032062806"
      ]
     },
     "execution_count": 19,
     "metadata": {},
     "output_type": "execute_result"
    }
   ],
   "source": [
    "p_value"
   ]
  },
  {
   "cell_type": "markdown",
   "id": "63cefe09",
   "metadata": {},
   "source": [
    "    To compare p-value with significance level we use the conditional statement"
   ]
  },
  {
   "cell_type": "code",
   "execution_count": 20,
   "id": "3462a47d",
   "metadata": {},
   "outputs": [
    {
     "name": "stdout",
     "output_type": "stream",
     "text": [
      "The null hypothesis is not rejected.\n",
      "The average exam score of the students is not significantly below the national average of 70%.\n"
     ]
    }
   ],
   "source": [
    "if p_value < alpha:\n",
    "    print(\"The null hypothesis is rejected.\")\n",
    "    print(\"The average exam score of the students is significantly below the national average of 70%.\")\n",
    "else:\n",
    "    print(\"The null hypothesis is not rejected.\")\n",
    "    print(\"The average exam score of the students is not significantly below the national average of 70%.\")"
   ]
  },
  {
   "cell_type": "markdown",
   "id": "53fe9e5c",
   "metadata": {},
   "source": [
    "###### Comment:"
   ]
  },
  {
   "cell_type": "markdown",
   "id": "0fb497af",
   "metadata": {},
   "source": [
    "> When the null hypothesis is not rejected, it signifies that there is insufficient data to support a conclusion that the students' average exam scores are significantly below the national average of 70%. In other words, we are unable to conclude with certainty that the performance of the students in the school is lower than the reported national average based on the dataset provided and the statistical analysis performed.\n",
    "\n",
    "> The p-value obtained from the one-sample t-test is GREATER than the significance level (alpha) of 0.05. This suggests that the observed difference between the average exam score and the national average of 70% could be due to random variation or sampling error. Therefore, we don't have sufficient evidence to support the teacher's concern that the students' performance is below the national average.\n",
    "\n",
    "> It's important to keep in mind, though, that statistical significance does not always reflect practical relevance. Even though the statistical test may not show a significant difference, further investigation and evaluation of other aspects may be helpful to comprehend the students' performance in more detail."
   ]
  },
  {
   "cell_type": "markdown",
   "id": "3a1a7b7d",
   "metadata": {},
   "source": [
    "##### c. Produce and comment on an appropriate plot to illustrate your findings."
   ]
  },
  {
   "cell_type": "markdown",
   "id": "74483133",
   "metadata": {},
   "source": [
    "    Calculating the average exam score and national_average"
   ]
  },
  {
   "cell_type": "code",
   "execution_count": 21,
   "id": "98bd1082",
   "metadata": {},
   "outputs": [],
   "source": [
    "mu = 70\n",
    "data = df['exam_score']"
   ]
  },
  {
   "cell_type": "code",
   "execution_count": 22,
   "id": "ebd332fc",
   "metadata": {},
   "outputs": [
    {
     "data": {
      "image/png": "[encoded data removed]",
      "text/plain": [
       "<Figure size 640x480 with 1 Axes>"
      ]
     },
     "metadata": {},
     "output_type": "display_data"
    }
   ],
   "source": [
    "import matplotlib.pyplot as plt\n",
    "result = plt.hist(data, bins=7, color='navy', edgecolor='k', alpha=0.65)\n",
    "plt.axvline(data.mean(), color='k', linestyle='dashed', linewidth=2)\n",
    "plt.axvline(mu, color='red', linestyle='solid',linewidth=2);"
   ]
  },
  {
   "cell_type": "markdown",
   "id": "60df2f69",
   "metadata": {},
   "source": [
    "> The histogram plot represents the distribution of exam scores, providing insights into how the scores are spread across different ranges. The mean score, represented by the **dashed black line**, serves as an average performance indicator based on the available data. By comparing the sample mean to the known performance in the Dublin secondary school, we can assess how the average score obtained from the sample aligns with the overall performance of the students in that specific school. If the sample mean is close to the known performance, it suggests that the sample is a representative subset of the student population from that school."
   ]
  },
  {
   "cell_type": "code",
   "execution_count": 23,
   "id": "75069f8a",
   "metadata": {},
   "outputs": [
    {
     "data": {
      "image/png": "[encoded data removed]",
      "text/plain": [
       "<Figure size 640x480 with 1 Axes>"
      ]
     },
     "metadata": {},
     "output_type": "display_data"
    }
   ],
   "source": [
    "import numpy as np\n",
    "import matplotlib.pyplot as plt\n",
    "from scipy.stats import norm\n",
    "\n",
    "t_statistic = -0.9169771399834613\n",
    "p_value = 0.36364597032062806\n",
    "mean = 68.7356\n",
    "median = 68.39\n",
    "national_average = 70\n",
    "\n",
    "# Calculate the standard deviation using the mean and median\n",
    "std = (mean - median) / norm.ppf(0.5 + p_value / 2)\n",
    "\n",
    "# Create an x array of values to evaluate the normal distribution\n",
    "x = np.linspace(mean - 3 * std, mean + 3 * std, 100)\n",
    "\n",
    "# Generate the normal distribution with the calculated mean and standard deviation\n",
    "dist = norm(loc=mean, scale=std)\n",
    "\n",
    "# Plot the normal distribution pdf\n",
    "plt.plot(x, dist.pdf(x), label='Normal Distribution')\n",
    "\n",
    "# Plot a vertical line at the national average value\n",
    "plt.axvline(national_average, color='red', label='National Average')\n",
    "\n",
    "plt.xlabel('Exam Score')\n",
    "plt.ylabel('Probability Density')\n",
    "plt.title('Normal Distribution of Exam Scores')\n",
    "plt.legend()\n",
    "plt.show()\n"
   ]
  },
  {
   "cell_type": "code",
   "execution_count": 24,
   "id": "818cc2c6",
   "metadata": {},
   "outputs": [
    {
     "data": {
      "image/png": "[encoded data removed]",
      "text/plain": [
       "<Figure size 640x480 with 1 Axes>"
      ]
     },
     "metadata": {},
     "output_type": "display_data"
    }
   ],
   "source": [
    "import numpy as np\n",
    "import matplotlib.pyplot as plt\n",
    "\n",
    "# Data\n",
    "mean = 68.735600\n",
    "std = 9.750143\n",
    "mu = 70\n",
    "data = df['exam_score']\n",
    "\n",
    "# Plotting\n",
    "plt.hist(data, bins=10, edgecolor='black', alpha=0.5, label='Exam Scores', color='navy')\n",
    "\n",
    "# Confidence interval boundaries\n",
    "ci_lower = mean - (std / np.sqrt(len(data))) * t_statistic\n",
    "ci_upper = mean + (std / np.sqrt(len(data))) * t_statistic\n",
    "\n",
    "# Plotting mean and confidence interval\n",
    "plt.axvline(mean, color='r', linestyle='--', label='Mean')\n",
    "plt.axvline(ci_lower, color='g', linestyle='--', label='Confidence Interval')\n",
    "plt.axvline(ci_upper, color='g', linestyle='--')\n",
    "\n",
    "# Plot customization\n",
    "plt.xlabel('Score')\n",
    "plt.ylabel('Frequency')\n",
    "plt.title('Distribution of Exam Scores')\n",
    "plt.legend()\n",
    "\n",
    "# Display the plot\n",
    "plt.show()\n"
   ]
  },
  {
   "cell_type": "markdown",
   "id": "b6d0cc72",
   "metadata": {},
   "source": [
    "------------------------------------------------------------------"
   ]
  },
  {
   "cell_type": "markdown",
   "id": "d8e27981",
   "metadata": {},
   "source": [
    "# <div style=\"padding:20px;color:white;margin:0;font-size:35px;font-family:arial;text-align:center;display:fill;border-radius:5px;background-color:mediumaquamarine;overflow:hidden\"><b>TASK 2</b></div>"
   ]
  },
  {
   "cell_type": "markdown",
   "id": "972f3821",
   "metadata": {},
   "source": [
    "##### Load the diamonds dataset, and print the first 5 rows. The color variable refers to the colour of the diamond, with categories from “D” to “J”. Colourless diamonds are considered better than diamonds with a yellow tint. Diamonds from “D” to “F” are considered colourless, and diamonds from colour “G” to “J” are not considered colourless (that is, they have a very faint colour)."
   ]
  },
  {
   "cell_type": "code",
   "execution_count": 25,
   "id": "7b2a7112",
   "metadata": {},
   "outputs": [],
   "source": [
    "import seaborn as sns\n",
    "diamonds = sns.load_dataset('diamonds')"
   ]
  },
  {
   "cell_type": "code",
   "execution_count": 26,
   "id": "7aa6f04b",
   "metadata": {},
   "outputs": [
    {
     "data": {
      "text/html": [
       "<div>\n",
       "<style scoped>\n",
       "    .dataframe tbody tr th:only-of-type {\n",
       "        vertical-align: middle;\n",
       "    }\n",
       "\n",
       "    .dataframe tbody tr th {\n",
       "        vertical-align: top;\n",
       "    }\n",
       "\n",
       "    .dataframe thead th {\n",
       "        text-align: right;\n",
       "    }\n",
       "</style>\n",
       "<table border=\"1\" class=\"dataframe\">\n",
       "  <thead>\n",
       "    <tr style=\"text-align: right;\">\n",
       "      <th></th>\n",
       "      <th>carat</th>\n",
       "      <th>cut</th>\n",
       "      <th>color</th>\n",
       "      <th>clarity</th>\n",
       "      <th>depth</th>\n",
       "      <th>table</th>\n",
       "      <th>price</th>\n",
       "      <th>x</th>\n",
       "      <th>y</th>\n",
       "      <th>z</th>\n",
       "    </tr>\n",
       "  </thead>\n",
       "  <tbody>\n",
       "    <tr>\n",
       "      <th>0</th>\n",
       "      <td>0.23</td>\n",
       "      <td>Ideal</td>\n",
       "      <td>E</td>\n",
       "      <td>SI2</td>\n",
       "      <td>61.5</td>\n",
       "      <td>55.0</td>\n",
       "      <td>326</td>\n",
       "      <td>3.95</td>\n",
       "      <td>3.98</td>\n",
       "      <td>2.43</td>\n",
       "    </tr>\n",
       "    <tr>\n",
       "      <th>1</th>\n",
       "      <td>0.21</td>\n",
       "      <td>Premium</td>\n",
       "      <td>E</td>\n",
       "      <td>SI1</td>\n",
       "      <td>59.8</td>\n",
       "      <td>61.0</td>\n",
       "      <td>326</td>\n",
       "      <td>3.89</td>\n",
       "      <td>3.84</td>\n",
       "      <td>2.31</td>\n",
       "    </tr>\n",
       "    <tr>\n",
       "      <th>2</th>\n",
       "      <td>0.23</td>\n",
       "      <td>Good</td>\n",
       "      <td>E</td>\n",
       "      <td>VS1</td>\n",
       "      <td>56.9</td>\n",
       "      <td>65.0</td>\n",
       "      <td>327</td>\n",
       "      <td>4.05</td>\n",
       "      <td>4.07</td>\n",
       "      <td>2.31</td>\n",
       "    </tr>\n",
       "    <tr>\n",
       "      <th>3</th>\n",
       "      <td>0.29</td>\n",
       "      <td>Premium</td>\n",
       "      <td>I</td>\n",
       "      <td>VS2</td>\n",
       "      <td>62.4</td>\n",
       "      <td>58.0</td>\n",
       "      <td>334</td>\n",
       "      <td>4.20</td>\n",
       "      <td>4.23</td>\n",
       "      <td>2.63</td>\n",
       "    </tr>\n",
       "    <tr>\n",
       "      <th>4</th>\n",
       "      <td>0.31</td>\n",
       "      <td>Good</td>\n",
       "      <td>J</td>\n",
       "      <td>SI2</td>\n",
       "      <td>63.3</td>\n",
       "      <td>58.0</td>\n",
       "      <td>335</td>\n",
       "      <td>4.34</td>\n",
       "      <td>4.35</td>\n",
       "      <td>2.75</td>\n",
       "    </tr>\n",
       "  </tbody>\n",
       "</table>\n",
       "</div>"
      ],
      "text/plain": [
       "   carat      cut color clarity  depth  table  price     x     y     z\n",
       "0   0.23    Ideal     E     SI2   61.5   55.0    326  3.95  3.98  2.43\n",
       "1   0.21  Premium     E     SI1   59.8   61.0    326  3.89  3.84  2.31\n",
       "2   0.23     Good     E     VS1   56.9   65.0    327  4.05  4.07  2.31\n",
       "3   0.29  Premium     I     VS2   62.4   58.0    334  4.20  4.23  2.63\n",
       "4   0.31     Good     J     SI2   63.3   58.0    335  4.34  4.35  2.75"
      ]
     },
     "execution_count": 26,
     "metadata": {},
     "output_type": "execute_result"
    }
   ],
   "source": [
    "diamonds.head(5)"
   ]
  },
  {
   "cell_type": "markdown",
   "id": "be554cae",
   "metadata": {},
   "source": [
    "##### a. Create a new binary variable in the dataframe called “colourless” which records 1 in rows with colourless diamonds and 0 otherwise."
   ]
  },
  {
   "cell_type": "code",
   "execution_count": 27,
   "id": "c4c53a26",
   "metadata": {},
   "outputs": [],
   "source": [
    "diamonds['colourless'] = (diamonds['color'].isin(['D', 'E', 'F'])).astype(int)"
   ]
  },
  {
   "cell_type": "code",
   "execution_count": 28,
   "id": "5bccfc52",
   "metadata": {},
   "outputs": [
    {
     "name": "stdout",
     "output_type": "stream",
     "text": [
      "   carat      cut color clarity  depth  table  price     x     y     z  \\\n",
      "0   0.23    Ideal     E     SI2   61.5   55.0    326  3.95  3.98  2.43   \n",
      "1   0.21  Premium     E     SI1   59.8   61.0    326  3.89  3.84  2.31   \n",
      "2   0.23     Good     E     VS1   56.9   65.0    327  4.05  4.07  2.31   \n",
      "3   0.29  Premium     I     VS2   62.4   58.0    334  4.20  4.23  2.63   \n",
      "4   0.31     Good     J     SI2   63.3   58.0    335  4.34  4.35  2.75   \n",
      "\n",
      "   colourless  \n",
      "0           1  \n",
      "1           1  \n",
      "2           1  \n",
      "3           0  \n",
      "4           0  \n"
     ]
    }
   ],
   "source": [
    "print(diamonds.head(5))"
   ]
  },
  {
   "cell_type": "markdown",
   "id": "85c322bd",
   "metadata": {},
   "source": [
    "    The .isin() function checks if the value of the \"color\" column is in the list ['D', 'E', 'F']. The result is a boolean Series with True where the value is in the list and False otherwise. So than we use the .astype() function to convert the boolean values to integers, with 'True' being converted to 1 and 'False' to 0. Finally, we assign this Series to a new column called \"colourless\" in the diamonds dataframe."
   ]
  },
  {
   "cell_type": "markdown",
   "id": "0c7dc30e",
   "metadata": {},
   "source": [
    "##### b. Perform an appropriate hypothesis test to determine whether there is any association between the clarity of a diamond and whether it is colourless or not. Use a significance level of alpha = 0.01"
   ]
  },
  {
   "cell_type": "markdown",
   "id": "70d1e792",
   "metadata": {},
   "source": [
    "    To determine whether there is an association between the clarity of a diamond and whether it is colorless or not, \n",
    "    we can perform a chi-squared test of independence. This test will help assess whether there is a significant\n",
    "    relationship between two categorical variables."
   ]
  },
  {
   "cell_type": "markdown",
   "id": "67663648",
   "metadata": {},
   "source": [
    "    First step we import the necessary libraries"
   ]
  },
  {
   "cell_type": "code",
   "execution_count": 29,
   "id": "72ed19e3",
   "metadata": {},
   "outputs": [],
   "source": [
    "import pandas as pd\n",
    "from scipy.stats import chi2_contingency"
   ]
  },
  {
   "cell_type": "markdown",
   "id": "2e2ce9e3",
   "metadata": {},
   "source": [
    "    Next we can create a contingency table"
   ]
  },
  {
   "cell_type": "code",
   "execution_count": 30,
   "id": "65d959d0",
   "metadata": {},
   "outputs": [],
   "source": [
    "contingency_table = pd.crosstab(diamonds['clarity'], diamonds['colourless'])"
   ]
  },
  {
   "cell_type": "markdown",
   "id": "b181a6ab",
   "metadata": {},
   "source": [
    "     Performing the chi-squared test"
   ]
  },
  {
   "cell_type": "code",
   "execution_count": 31,
   "id": "0b3a78a7",
   "metadata": {},
   "outputs": [],
   "source": [
    "chi2_stat, p_val, dof, expected = chi2_contingency(contingency_table)"
   ]
  },
  {
   "cell_type": "markdown",
   "id": "e9adcb28",
   "metadata": {},
   "source": [
    "    Set the significance level"
   ]
  },
  {
   "cell_type": "code",
   "execution_count": 32,
   "id": "dc5c8b1d",
   "metadata": {},
   "outputs": [],
   "source": [
    "alpha = 0.01"
   ]
  },
  {
   "cell_type": "markdown",
   "id": "8aa02752",
   "metadata": {},
   "source": [
    "    Check the p-value against the significance level"
   ]
  },
  {
   "cell_type": "code",
   "execution_count": 33,
   "id": "0a5bb3c8",
   "metadata": {},
   "outputs": [
    {
     "name": "stdout",
     "output_type": "stream",
     "text": [
      "Reject the null hypothesis. There is evidence of an association between clarity and colourless.\n"
     ]
    }
   ],
   "source": [
    "if p_val < alpha:\n",
    "    print(\"Reject the null hypothesis. There is evidence of an association between clarity and colourless.\")\n",
    "else:\n",
    "    print(\"Fail to reject the null hypothesis. There is insufficient evidence of an association between clarity and colourless.\")"
   ]
  },
  {
   "cell_type": "markdown",
   "id": "33acd7c5",
   "metadata": {},
   "source": [
    "##### c. Produce and comment on an appropriate plot to illustrate your findings."
   ]
  },
  {
   "cell_type": "code",
   "execution_count": 34,
   "id": "fba5f840",
   "metadata": {},
   "outputs": [
    {
     "name": "stdout",
     "output_type": "stream",
     "text": [
      "   colourless clarity  value\n",
      "0          No      I1    454\n",
      "1         Yes      I1    287\n",
      "2          No      IF   1174\n",
      "3         Yes      IF    616\n",
      "4          No     SI1   6425\n",
      "5         Yes     SI1   6640\n",
      "6          No     SI2   4502\n",
      "7         Yes     SI2   4692\n",
      "8          No     VS1   4821\n",
      "9         Yes     VS1   3350\n",
      "10         No     VS2   5890\n",
      "11        Yes     VS2   6368\n",
      "12         No    VVS1   2013\n",
      "13        Yes    VVS1   1624\n",
      "14         No    VVS2   2547\n",
      "15        Yes    VVS2   2519\n"
     ]
    },
    {
     "data": {
      "image/png": "[encoded data removed]",
      "text/plain": [
       "<Figure size 586.625x500 with 1 Axes>"
      ]
     },
     "metadata": {},
     "output_type": "display_data"
    }
   ],
   "source": [
    "# Making a plot of the two-way table:\n",
    "import seaborn as sns\n",
    "\n",
    "dfs = pd.DataFrame(data={'colourless': ['No','Yes'], \n",
    "                         'I1': [454, 287], \n",
    "                         'IF': [1174, 616], \n",
    "                         'SI1':[6425, 6640],\n",
    "                         'SI2':[4502, 4692],\n",
    "                         'VS1': [4821, 3350],\n",
    "                         'VS2': [5890, 6368],\n",
    "                        'VVS1':[2013, 1624],\n",
    "                       'VVS2':[2547, 2519]})\n",
    "\n",
    "# Melt the dataframe:\n",
    "dfs1 = pd.melt(dfs, id_vars = \"colourless\")\n",
    "dfs1 = dfs1.rename(columns={\"variable\": \"clarity\"})\n",
    "\n",
    "print(dfs1)\n",
    "\n",
    "sns.catplot(x = 'colourless', y='value', \n",
    "               hue = 'clarity',data=dfs1, kind='bar')\n",
    "plt.show()"
   ]
  },
  {
   "cell_type": "markdown",
   "id": "dc692da8",
   "metadata": {},
   "source": [
    "> In this analysis, we explored the relationship between diamond clarity and colorlessness using a two-way table and a bar plot. The clarity of diamonds was measured on a scale from \"I1\" (worst) to \"IF\" (best), with several intermediate levels including \"SI2,\" \"SI1,\" \"VS2,\" \"VS1,\" \"VVS2,\" and \"VVS1.\" The data was organized in a tidy format, with each row representing a combination of clarity and a binary indicator of colorlessness (\"Yes\" or \"No\"). The \"value\" column indicated the count of diamonds in each clarity category for both colorless and non-colorless diamonds.\n",
    "\n",
    "> By examining the bar plot, we gained valuable insights into the distribution of diamond clarity among colorless and non-colorless diamonds. The plot displayed the \"colorless\" category on the x-axis and the count of diamonds on the y-axis. Each clarity category was represented by a different color. Notably, the clarity category \"SI1\" had the highest count for both colorless and non-colorless diamonds."
   ]
  },
  {
   "cell_type": "markdown",
   "id": "e3e1ebfa",
   "metadata": {},
   "source": [
    "##### d. Find and interpret 90% confidence intervals for both the mean price of colourless diamonds and the mean price of non-colourless diamonds."
   ]
  },
  {
   "cell_type": "markdown",
   "id": "3da288a2",
   "metadata": {},
   "source": [
    "    Import the necessary libraries"
   ]
  },
  {
   "cell_type": "code",
   "execution_count": 35,
   "id": "7bf99ef1",
   "metadata": {},
   "outputs": [],
   "source": [
    "import pandas as pd\n",
    "import numpy as np\n",
    "from scipy import stats\n",
    "import seaborn as sns"
   ]
  },
  {
   "cell_type": "markdown",
   "id": "05f9b3a4",
   "metadata": {},
   "source": [
    "    Define the subsets for colorless and non-colorless diamonds"
   ]
  },
  {
   "cell_type": "code",
   "execution_count": 36,
   "id": "5c60c21b",
   "metadata": {},
   "outputs": [],
   "source": [
    "colourless_diamonds = diamonds[diamonds['color'].isin(['D', 'E', 'F'])]\n",
    "non_colourless_diamonds = diamonds[diamonds['color'].isin(['G', 'H', 'I', 'J'])]"
   ]
  },
  {
   "cell_type": "markdown",
   "id": "8c056f9c",
   "metadata": {},
   "source": [
    "    Calculate the sample mean and standard deviation for the price of colorless diamonds"
   ]
  },
  {
   "cell_type": "code",
   "execution_count": 37,
   "id": "00c2b13d",
   "metadata": {},
   "outputs": [],
   "source": [
    "mean_colourless = colourless_diamonds['price'].mean()\n",
    "std_colourless = colourless_diamonds['price'].std()"
   ]
  },
  {
   "cell_type": "markdown",
   "id": "3aa0cea2",
   "metadata": {},
   "source": [
    "    Calculate the mean and standard deviation for the price of non-colourless diamonds"
   ]
  },
  {
   "cell_type": "code",
   "execution_count": 38,
   "id": "f6e831f1",
   "metadata": {},
   "outputs": [],
   "source": [
    "mean_non_colourless = non_colourless_diamonds['price'].mean()\n",
    "std_non_colourless = non_colourless_diamonds['price'].std()"
   ]
  },
  {
   "cell_type": "markdown",
   "id": "280fa8b4",
   "metadata": {},
   "source": [
    "    Calculate the 90% confidence intervals using the stats.t.interval() function:"
   ]
  },
  {
   "cell_type": "code",
   "execution_count": 39,
   "id": "a6ed3dfe",
   "metadata": {},
   "outputs": [],
   "source": [
    "alpha = 0.1  # 90% confidence level\n",
    "n_colourless = len(colourless_diamonds)\n",
    "n_non_colourless = len(non_colourless_diamonds)\n",
    "\n",
    "ci_colourless = stats.t.interval(alpha, df=n_colourless - 1, loc=mean_colourless, scale=std_colourless / (n_colourless ** 0.5))\n",
    "ci_non_colourless = stats.t.interval(alpha, df=n_non_colourless - 1, loc=mean_non_colourless, scale=std_non_colourless / (n_non_colourless ** 0.5))"
   ]
  },
  {
   "cell_type": "markdown",
   "id": "38c0d33f",
   "metadata": {},
   "source": [
    "    Calculate the mean and standard deviation for the price of colourless diamonds"
   ]
  },
  {
   "cell_type": "markdown",
   "id": "6c5d260f",
   "metadata": {},
   "source": [
    "    The stats.t.interval() function calculates the confidence interval based on the t-distribution. The degrees of freedom are calculated as n - 1, where n is the sample size."
   ]
  },
  {
   "cell_type": "code",
   "execution_count": 40,
   "id": "70e8fcc4",
   "metadata": {},
   "outputs": [
    {
     "name": "stdout",
     "output_type": "stream",
     "text": [
      "90% Confidence Interval for the Mean Price of Colourless Diamonds: (3335.01668708603, 3340.5021150890484)\n",
      "90% Confidence Interval for the Mean Price of Non-Colourless Diamonds: (4487.986959024278, 4494.473186163676)\n"
     ]
    }
   ],
   "source": [
    "print(\"90% Confidence Interval for the Mean Price of Colourless Diamonds:\", ci_colourless)\n",
    "print(\"90% Confidence Interval for the Mean Price of Non-Colourless Diamonds:\", ci_non_colourless)"
   ]
  },
  {
   "cell_type": "markdown",
   "id": "3dce08fb",
   "metadata": {},
   "source": [
    "\n",
    "> The 90% confidence interval for the mean price of colourless diamonds represents the range of values within which we can be 90% confident that the true mean price of all colourless diamonds lies. Similarly, the 90% confidence interval for the mean price of non-colourless diamonds represents the range of values within which we can be 90% confident that the true mean price of all non-colourless diamonds lies.\n",
    "\n",
    "> For example, the 90% CI for the Mean Price of Colourless Diamonds (3335.01668708603, 3340.5021150890484). This means that we can be 90% confident that the true mean price of all colourless diamonds falls between 3335.01 and 3340.50. \n",
    "\n",
    "> Similarly, the 90% CI for the Mean Price of Non-Colourless Diamonds represents the range of values within which we can be 90% confident that the true mean price of all non-colourless diamonds lies.\n",
    "\n",
    "> **Note:** The confidence intervals assume that the sample data is representative of the population and that the data follows a normal"
   ]
  },
  {
   "cell_type": "markdown",
   "id": "6004dff3",
   "metadata": {},
   "source": [
    "------------------------------------------------------------------"
   ]
  },
  {
   "cell_type": "markdown",
   "id": "f7379d1e",
   "metadata": {},
   "source": [
    "# <div style=\"padding:20px;color:white;margin:0;font-size:35px;font-family:arial;text-align:center;display:fill;border-radius:5px;background-color:mediumaquamarine;overflow:hidden\"><b>TASK 3</b></div>"
   ]
  },
  {
   "cell_type": "markdown",
   "id": "16907bae",
   "metadata": {},
   "source": [
    "##### Load the PlantGrowth dataset from the pydataset library. It contains the results of a small study comparing the yields of plants obtained under a control and under two different treatment conditions."
   ]
  },
  {
   "cell_type": "markdown",
   "id": "fcd5447d",
   "metadata": {},
   "source": [
    "    First of all import the required libraries and load the dataset"
   ]
  },
  {
   "cell_type": "code",
   "execution_count": 41,
   "id": "7aa02582",
   "metadata": {},
   "outputs": [],
   "source": [
    "from pydataset import data\n",
    "df = data('PlantGrowth')"
   ]
  },
  {
   "cell_type": "markdown",
   "id": "fd8d2bcc",
   "metadata": {},
   "source": [
    "##### a. Find and comment on important summary statistics by treatment and produce an appropriate plot to summarise the dataset."
   ]
  },
  {
   "cell_type": "code",
   "execution_count": 42,
   "id": "d351b404",
   "metadata": {},
   "outputs": [
    {
     "data": {
      "text/html": [
       "<div>\n",
       "<style scoped>\n",
       "    .dataframe tbody tr th:only-of-type {\n",
       "        vertical-align: middle;\n",
       "    }\n",
       "\n",
       "    .dataframe tbody tr th {\n",
       "        vertical-align: top;\n",
       "    }\n",
       "\n",
       "    .dataframe thead th {\n",
       "        text-align: right;\n",
       "    }\n",
       "</style>\n",
       "<table border=\"1\" class=\"dataframe\">\n",
       "  <thead>\n",
       "    <tr style=\"text-align: right;\">\n",
       "      <th></th>\n",
       "      <th>weight</th>\n",
       "      <th>group</th>\n",
       "    </tr>\n",
       "  </thead>\n",
       "  <tbody>\n",
       "    <tr>\n",
       "      <th>1</th>\n",
       "      <td>4.17</td>\n",
       "      <td>ctrl</td>\n",
       "    </tr>\n",
       "    <tr>\n",
       "      <th>2</th>\n",
       "      <td>5.58</td>\n",
       "      <td>ctrl</td>\n",
       "    </tr>\n",
       "    <tr>\n",
       "      <th>3</th>\n",
       "      <td>5.18</td>\n",
       "      <td>ctrl</td>\n",
       "    </tr>\n",
       "    <tr>\n",
       "      <th>4</th>\n",
       "      <td>6.11</td>\n",
       "      <td>ctrl</td>\n",
       "    </tr>\n",
       "    <tr>\n",
       "      <th>5</th>\n",
       "      <td>4.50</td>\n",
       "      <td>ctrl</td>\n",
       "    </tr>\n",
       "  </tbody>\n",
       "</table>\n",
       "</div>"
      ],
      "text/plain": [
       "   weight group\n",
       "1    4.17  ctrl\n",
       "2    5.58  ctrl\n",
       "3    5.18  ctrl\n",
       "4    6.11  ctrl\n",
       "5    4.50  ctrl"
      ]
     },
     "execution_count": 42,
     "metadata": {},
     "output_type": "execute_result"
    }
   ],
   "source": [
    "df.head()"
   ]
  },
  {
   "cell_type": "markdown",
   "id": "60e30dce",
   "metadata": {},
   "source": [
    "    Findind out the size of the data"
   ]
  },
  {
   "cell_type": "code",
   "execution_count": 43,
   "id": "99a99782",
   "metadata": {},
   "outputs": [
    {
     "data": {
      "text/plain": [
       "(30, 2)"
      ]
     },
     "execution_count": 43,
     "metadata": {},
     "output_type": "execute_result"
    }
   ],
   "source": [
    "df.shape"
   ]
  },
  {
   "cell_type": "markdown",
   "id": "ec45ea4b",
   "metadata": {},
   "source": [
    "    Calculating the summary statistics by treatment"
   ]
  },
  {
   "cell_type": "code",
   "execution_count": 44,
   "id": "b7938ad2",
   "metadata": {},
   "outputs": [],
   "source": [
    "summary_stats = df.groupby('group')['weight'].describe()"
   ]
  },
  {
   "cell_type": "code",
   "execution_count": 45,
   "id": "432fd011",
   "metadata": {},
   "outputs": [
    {
     "name": "stdout",
     "output_type": "stream",
     "text": [
      "       count   mean       std   min     25%    50%     75%   max\n",
      "group                                                           \n",
      "ctrl    10.0  5.032  0.583091  4.17  4.5500  5.155  5.2925  6.11\n",
      "trt1    10.0  4.661  0.793676  3.59  4.2075  4.550  4.8700  6.03\n",
      "trt2    10.0  5.526  0.442573  4.92  5.2675  5.435  5.7350  6.31\n"
     ]
    }
   ],
   "source": [
    "print(summary_stats)"
   ]
  },
  {
   "cell_type": "markdown",
   "id": "0d36cd5c",
   "metadata": {},
   "source": [
    "> This shows that the mean weight for each treatment group is 5.032, 4.661, and 5.526 for the control, trt1, and trt2 groups respectively. We can also see that the standard deviation of the weights in each group differs, with trt1 having the largest standard deviation."
   ]
  },
  {
   "cell_type": "markdown",
   "id": "91440572",
   "metadata": {},
   "source": [
    "    To create an appropriate plot to summarize the dataset we need first import Seaborn"
   ]
  },
  {
   "cell_type": "code",
   "execution_count": 46,
   "id": "a6c23195",
   "metadata": {},
   "outputs": [
    {
     "data": {
      "text/plain": [
       "<AxesSubplot:xlabel='group', ylabel='weight'>"
      ]
     },
     "execution_count": 46,
     "metadata": {},
     "output_type": "execute_result"
    },
    {
     "data": {
      "image/png": "[encoded data removed]",
      "text/plain": [
       "<Figure size 640x480 with 1 Axes>"
      ]
     },
     "metadata": {},
     "output_type": "display_data"
    }
   ],
   "source": [
    "import seaborn as sns\n",
    "sns.boxplot(data=df, x='group', y='weight')"
   ]
  },
  {
   "cell_type": "markdown",
   "id": "7240bd4f",
   "metadata": {},
   "source": [
    "> The boxplot function from the seaborn library creates a box plot to visualize the distribution of weights for each treatment group. The control group has a larger median weight than the other two treatment groups, it is clear from the plot analysis. This implies that the control group had a larger weight measurement overall.\n",
    "> In addition, we see that the trt1 group has a wider interquartile range than the other two groups (the space between the 25th and 75th percentiles). This suggests that the trt1 group's weights are more inconsistent than those in the other treatment groups.\n",
    "> The box plot also illustrates that each group has assimetric distribuition as we visualize in the tails. Notably, the position of the top whisker in the trt2 group indicates that it has the highest maximal weight."
   ]
  },
  {
   "cell_type": "markdown",
   "id": "20cb7197",
   "metadata": {},
   "source": [
    "##### b. Conduct an appropriate hypothesis test to see if there is evidence of a difference between the three means (that is, the control and the two treatments). Use a significance level of alpha = 0.05."
   ]
  },
  {
   "cell_type": "markdown",
   "id": "d0f57f2f",
   "metadata": {},
   "source": [
    "##### Where:"
   ]
  },
  {
   "cell_type": "markdown",
   "id": "5369bce4",
   "metadata": {},
   "source": [
    "    H0 - null hypothesis is that the mean score of the students is EQUAL to OR GREATER than the national average (μ >= 70). \n",
    "    H1 - alternative hypothesis is that the mean score is LESS than the national average (μ < 70)."
   ]
  },
  {
   "cell_type": "markdown",
   "id": "e74e8769",
   "metadata": {},
   "source": [
    "    Create a function to glimpse the data"
   ]
  },
  {
   "cell_type": "code",
   "execution_count": 47,
   "id": "ca9d51b0",
   "metadata": {},
   "outputs": [],
   "source": [
    "def glimpse(df):\n",
    "    print(f\"{df.shape[0]} rows and {df.shape[1]} columns\")\n",
    "    display(df.head())\n",
    "    display(df.tail())"
   ]
  },
  {
   "cell_type": "markdown",
   "id": "c0d95697",
   "metadata": {},
   "source": [
    "    Import package"
   ]
  },
  {
   "cell_type": "code",
   "execution_count": 48,
   "id": "0c5a0708",
   "metadata": {},
   "outputs": [],
   "source": [
    "from pydataset import data"
   ]
  },
  {
   "cell_type": "markdown",
   "id": "73c80d48",
   "metadata": {},
   "source": [
    "    Divide into three groups"
   ]
  },
  {
   "cell_type": "code",
   "execution_count": 49,
   "id": "33cb75af",
   "metadata": {},
   "outputs": [],
   "source": [
    "df1 = df[df['group'] == 'ctrl']\n",
    "df2 = df[df['group'] == 'trt1']\n",
    "df3 = df[df['group'] == 'trt2']"
   ]
  },
  {
   "cell_type": "markdown",
   "id": "3df47deb",
   "metadata": {},
   "source": [
    "    Call the glimpse function for each group"
   ]
  },
  {
   "cell_type": "code",
   "execution_count": 50,
   "id": "e5fcf046",
   "metadata": {},
   "outputs": [
    {
     "name": "stdout",
     "output_type": "stream",
     "text": [
      "\n",
      "\u001b[1m---- GROUP CONTROL:\u001b[0m 10 rows and 2 columns\n"
     ]
    },
    {
     "data": {
      "text/html": [
       "<div>\n",
       "<style scoped>\n",
       "    .dataframe tbody tr th:only-of-type {\n",
       "        vertical-align: middle;\n",
       "    }\n",
       "\n",
       "    .dataframe tbody tr th {\n",
       "        vertical-align: top;\n",
       "    }\n",
       "\n",
       "    .dataframe thead th {\n",
       "        text-align: right;\n",
       "    }\n",
       "</style>\n",
       "<table border=\"1\" class=\"dataframe\">\n",
       "  <thead>\n",
       "    <tr style=\"text-align: right;\">\n",
       "      <th></th>\n",
       "      <th>weight</th>\n",
       "      <th>group</th>\n",
       "    </tr>\n",
       "  </thead>\n",
       "  <tbody>\n",
       "    <tr>\n",
       "      <th>1</th>\n",
       "      <td>4.17</td>\n",
       "      <td>ctrl</td>\n",
       "    </tr>\n",
       "    <tr>\n",
       "      <th>2</th>\n",
       "      <td>5.58</td>\n",
       "      <td>ctrl</td>\n",
       "    </tr>\n",
       "    <tr>\n",
       "      <th>3</th>\n",
       "      <td>5.18</td>\n",
       "      <td>ctrl</td>\n",
       "    </tr>\n",
       "    <tr>\n",
       "      <th>4</th>\n",
       "      <td>6.11</td>\n",
       "      <td>ctrl</td>\n",
       "    </tr>\n",
       "    <tr>\n",
       "      <th>5</th>\n",
       "      <td>4.50</td>\n",
       "      <td>ctrl</td>\n",
       "    </tr>\n",
       "  </tbody>\n",
       "</table>\n",
       "</div>"
      ],
      "text/plain": [
       "   weight group\n",
       "1    4.17  ctrl\n",
       "2    5.58  ctrl\n",
       "3    5.18  ctrl\n",
       "4    6.11  ctrl\n",
       "5    4.50  ctrl"
      ]
     },
     "metadata": {},
     "output_type": "display_data"
    },
    {
     "data": {
      "text/html": [
       "<div>\n",
       "<style scoped>\n",
       "    .dataframe tbody tr th:only-of-type {\n",
       "        vertical-align: middle;\n",
       "    }\n",
       "\n",
       "    .dataframe tbody tr th {\n",
       "        vertical-align: top;\n",
       "    }\n",
       "\n",
       "    .dataframe thead th {\n",
       "        text-align: right;\n",
       "    }\n",
       "</style>\n",
       "<table border=\"1\" class=\"dataframe\">\n",
       "  <thead>\n",
       "    <tr style=\"text-align: right;\">\n",
       "      <th></th>\n",
       "      <th>weight</th>\n",
       "      <th>group</th>\n",
       "    </tr>\n",
       "  </thead>\n",
       "  <tbody>\n",
       "    <tr>\n",
       "      <th>6</th>\n",
       "      <td>4.61</td>\n",
       "      <td>ctrl</td>\n",
       "    </tr>\n",
       "    <tr>\n",
       "      <th>7</th>\n",
       "      <td>5.17</td>\n",
       "      <td>ctrl</td>\n",
       "    </tr>\n",
       "    <tr>\n",
       "      <th>8</th>\n",
       "      <td>4.53</td>\n",
       "      <td>ctrl</td>\n",
       "    </tr>\n",
       "    <tr>\n",
       "      <th>9</th>\n",
       "      <td>5.33</td>\n",
       "      <td>ctrl</td>\n",
       "    </tr>\n",
       "    <tr>\n",
       "      <th>10</th>\n",
       "      <td>5.14</td>\n",
       "      <td>ctrl</td>\n",
       "    </tr>\n",
       "  </tbody>\n",
       "</table>\n",
       "</div>"
      ],
      "text/plain": [
       "    weight group\n",
       "6     4.61  ctrl\n",
       "7     5.17  ctrl\n",
       "8     4.53  ctrl\n",
       "9     5.33  ctrl\n",
       "10    5.14  ctrl"
      ]
     },
     "metadata": {},
     "output_type": "display_data"
    },
    {
     "name": "stdout",
     "output_type": "stream",
     "text": [
      "\n",
      "\u001b[1m---- TREATMENT 1: \u001b[0m 10 rows and 2 columns\n"
     ]
    },
    {
     "data": {
      "text/html": [
       "<div>\n",
       "<style scoped>\n",
       "    .dataframe tbody tr th:only-of-type {\n",
       "        vertical-align: middle;\n",
       "    }\n",
       "\n",
       "    .dataframe tbody tr th {\n",
       "        vertical-align: top;\n",
       "    }\n",
       "\n",
       "    .dataframe thead th {\n",
       "        text-align: right;\n",
       "    }\n",
       "</style>\n",
       "<table border=\"1\" class=\"dataframe\">\n",
       "  <thead>\n",
       "    <tr style=\"text-align: right;\">\n",
       "      <th></th>\n",
       "      <th>weight</th>\n",
       "      <th>group</th>\n",
       "    </tr>\n",
       "  </thead>\n",
       "  <tbody>\n",
       "    <tr>\n",
       "      <th>11</th>\n",
       "      <td>4.81</td>\n",
       "      <td>trt1</td>\n",
       "    </tr>\n",
       "    <tr>\n",
       "      <th>12</th>\n",
       "      <td>4.17</td>\n",
       "      <td>trt1</td>\n",
       "    </tr>\n",
       "    <tr>\n",
       "      <th>13</th>\n",
       "      <td>4.41</td>\n",
       "      <td>trt1</td>\n",
       "    </tr>\n",
       "    <tr>\n",
       "      <th>14</th>\n",
       "      <td>3.59</td>\n",
       "      <td>trt1</td>\n",
       "    </tr>\n",
       "    <tr>\n",
       "      <th>15</th>\n",
       "      <td>5.87</td>\n",
       "      <td>trt1</td>\n",
       "    </tr>\n",
       "  </tbody>\n",
       "</table>\n",
       "</div>"
      ],
      "text/plain": [
       "    weight group\n",
       "11    4.81  trt1\n",
       "12    4.17  trt1\n",
       "13    4.41  trt1\n",
       "14    3.59  trt1\n",
       "15    5.87  trt1"
      ]
     },
     "metadata": {},
     "output_type": "display_data"
    },
    {
     "data": {
      "text/html": [
       "<div>\n",
       "<style scoped>\n",
       "    .dataframe tbody tr th:only-of-type {\n",
       "        vertical-align: middle;\n",
       "    }\n",
       "\n",
       "    .dataframe tbody tr th {\n",
       "        vertical-align: top;\n",
       "    }\n",
       "\n",
       "    .dataframe thead th {\n",
       "        text-align: right;\n",
       "    }\n",
       "</style>\n",
       "<table border=\"1\" class=\"dataframe\">\n",
       "  <thead>\n",
       "    <tr style=\"text-align: right;\">\n",
       "      <th></th>\n",
       "      <th>weight</th>\n",
       "      <th>group</th>\n",
       "    </tr>\n",
       "  </thead>\n",
       "  <tbody>\n",
       "    <tr>\n",
       "      <th>16</th>\n",
       "      <td>3.83</td>\n",
       "      <td>trt1</td>\n",
       "    </tr>\n",
       "    <tr>\n",
       "      <th>17</th>\n",
       "      <td>6.03</td>\n",
       "      <td>trt1</td>\n",
       "    </tr>\n",
       "    <tr>\n",
       "      <th>18</th>\n",
       "      <td>4.89</td>\n",
       "      <td>trt1</td>\n",
       "    </tr>\n",
       "    <tr>\n",
       "      <th>19</th>\n",
       "      <td>4.32</td>\n",
       "      <td>trt1</td>\n",
       "    </tr>\n",
       "    <tr>\n",
       "      <th>20</th>\n",
       "      <td>4.69</td>\n",
       "      <td>trt1</td>\n",
       "    </tr>\n",
       "  </tbody>\n",
       "</table>\n",
       "</div>"
      ],
      "text/plain": [
       "    weight group\n",
       "16    3.83  trt1\n",
       "17    6.03  trt1\n",
       "18    4.89  trt1\n",
       "19    4.32  trt1\n",
       "20    4.69  trt1"
      ]
     },
     "metadata": {},
     "output_type": "display_data"
    },
    {
     "name": "stdout",
     "output_type": "stream",
     "text": [
      "\n",
      "\u001b[1m---- TREATMENT 2: \u001b[0m 10 rows and 2 columns\n"
     ]
    },
    {
     "data": {
      "text/html": [
       "<div>\n",
       "<style scoped>\n",
       "    .dataframe tbody tr th:only-of-type {\n",
       "        vertical-align: middle;\n",
       "    }\n",
       "\n",
       "    .dataframe tbody tr th {\n",
       "        vertical-align: top;\n",
       "    }\n",
       "\n",
       "    .dataframe thead th {\n",
       "        text-align: right;\n",
       "    }\n",
       "</style>\n",
       "<table border=\"1\" class=\"dataframe\">\n",
       "  <thead>\n",
       "    <tr style=\"text-align: right;\">\n",
       "      <th></th>\n",
       "      <th>weight</th>\n",
       "      <th>group</th>\n",
       "    </tr>\n",
       "  </thead>\n",
       "  <tbody>\n",
       "    <tr>\n",
       "      <th>21</th>\n",
       "      <td>6.31</td>\n",
       "      <td>trt2</td>\n",
       "    </tr>\n",
       "    <tr>\n",
       "      <th>22</th>\n",
       "      <td>5.12</td>\n",
       "      <td>trt2</td>\n",
       "    </tr>\n",
       "    <tr>\n",
       "      <th>23</th>\n",
       "      <td>5.54</td>\n",
       "      <td>trt2</td>\n",
       "    </tr>\n",
       "    <tr>\n",
       "      <th>24</th>\n",
       "      <td>5.50</td>\n",
       "      <td>trt2</td>\n",
       "    </tr>\n",
       "    <tr>\n",
       "      <th>25</th>\n",
       "      <td>5.37</td>\n",
       "      <td>trt2</td>\n",
       "    </tr>\n",
       "  </tbody>\n",
       "</table>\n",
       "</div>"
      ],
      "text/plain": [
       "    weight group\n",
       "21    6.31  trt2\n",
       "22    5.12  trt2\n",
       "23    5.54  trt2\n",
       "24    5.50  trt2\n",
       "25    5.37  trt2"
      ]
     },
     "metadata": {},
     "output_type": "display_data"
    },
    {
     "data": {
      "text/html": [
       "<div>\n",
       "<style scoped>\n",
       "    .dataframe tbody tr th:only-of-type {\n",
       "        vertical-align: middle;\n",
       "    }\n",
       "\n",
       "    .dataframe tbody tr th {\n",
       "        vertical-align: top;\n",
       "    }\n",
       "\n",
       "    .dataframe thead th {\n",
       "        text-align: right;\n",
       "    }\n",
       "</style>\n",
       "<table border=\"1\" class=\"dataframe\">\n",
       "  <thead>\n",
       "    <tr style=\"text-align: right;\">\n",
       "      <th></th>\n",
       "      <th>weight</th>\n",
       "      <th>group</th>\n",
       "    </tr>\n",
       "  </thead>\n",
       "  <tbody>\n",
       "    <tr>\n",
       "      <th>26</th>\n",
       "      <td>5.29</td>\n",
       "      <td>trt2</td>\n",
       "    </tr>\n",
       "    <tr>\n",
       "      <th>27</th>\n",
       "      <td>4.92</td>\n",
       "      <td>trt2</td>\n",
       "    </tr>\n",
       "    <tr>\n",
       "      <th>28</th>\n",
       "      <td>6.15</td>\n",
       "      <td>trt2</td>\n",
       "    </tr>\n",
       "    <tr>\n",
       "      <th>29</th>\n",
       "      <td>5.80</td>\n",
       "      <td>trt2</td>\n",
       "    </tr>\n",
       "    <tr>\n",
       "      <th>30</th>\n",
       "      <td>5.26</td>\n",
       "      <td>trt2</td>\n",
       "    </tr>\n",
       "  </tbody>\n",
       "</table>\n",
       "</div>"
      ],
      "text/plain": [
       "    weight group\n",
       "26    5.29  trt2\n",
       "27    4.92  trt2\n",
       "28    6.15  trt2\n",
       "29    5.80  trt2\n",
       "30    5.26  trt2"
      ]
     },
     "metadata": {},
     "output_type": "display_data"
    }
   ],
   "source": [
    "print()\n",
    "print(\"\\033[1m---- GROUP CONTROL:\\033[0m\", end=' ')\n",
    "glimpse(df1)\n",
    "print()\n",
    "\n",
    "print(\"\\033[1m---- TREATMENT 1: \\033[0m\", end=' ')\n",
    "glimpse(df2)\n",
    "print()\n",
    "\n",
    "print(\"\\033[1m---- TREATMENT 2: \\033[0m\", end=' ')\n",
    "glimpse(df3)"
   ]
  },
  {
   "cell_type": "markdown",
   "id": "1ddc3aca",
   "metadata": {},
   "source": [
    "    Perform one-way ANOVA"
   ]
  },
  {
   "cell_type": "code",
   "execution_count": 51,
   "id": "6600985d",
   "metadata": {},
   "outputs": [],
   "source": [
    "result = stats.f_oneway(df1['weight'][df1['group'] == 'ctrl'],\n",
    "                        df2['weight'][df2['group'] == 'trt1'],\n",
    "                        df3['weight'][df3['group'] == 'trt2'])"
   ]
  },
  {
   "cell_type": "markdown",
   "id": "e5d72188",
   "metadata": {},
   "source": [
    "    Print the result"
   ]
  },
  {
   "cell_type": "code",
   "execution_count": 52,
   "id": "88fadbd8",
   "metadata": {},
   "outputs": [
    {
     "name": "stdout",
     "output_type": "stream",
     "text": [
      "One-way ANOVA results:\n",
      "F-statistic: 4.846087862380136\n",
      "p-value: 0.0159099583256229\n"
     ]
    }
   ],
   "source": [
    "print(\"One-way ANOVA results:\")\n",
    "print(\"F-statistic:\", result.statistic)\n",
    "print(\"p-value:\", result.pvalue)"
   ]
  },
  {
   "cell_type": "markdown",
   "id": "7af918c8",
   "metadata": {},
   "source": [
    "    A plot to see why we have rejected 𝐻0"
   ]
  },
  {
   "cell_type": "code",
   "execution_count": 53,
   "id": "c7fbf1b8",
   "metadata": {},
   "outputs": [
    {
     "data": {
      "image/png": "[encoded data removed]",
      "text/plain": [
       "<Figure size 640x480 with 1 Axes>"
      ]
     },
     "metadata": {},
     "output_type": "display_data"
    }
   ],
   "source": [
    "# Add three histograms to one plot\n",
    "plt.hist(df1['weight'], alpha=0.5, label='ctrl')\n",
    "plt.hist(df2['weight'], alpha=0.5, label='trt1')\n",
    "plt.hist(df3['weight'], alpha=0.5, label='trt2')\n",
    "\n",
    "# Add plot title and axis labels\n",
    "plt.title('Weight by Group')\n",
    "plt.xlabel('Weight')\n",
    "plt.ylabel('Frequency')\n",
    "\n",
    "# Add legend\n",
    "plt.legend(title='Groups')\n",
    "\n",
    "# Display plot\n",
    "plt.show()"
   ]
  },
  {
   "cell_type": "markdown",
   "id": "201152fb",
   "metadata": {},
   "source": [
    "> The results of the one-way ANOVA test indicate that there is evidence to suggest a statistically significant difference between at least one of the group means (control and two treatments) in the PlantGrowth dataset. The calculated F-statistic of 4.846087862380136 indicates a meaningful difference between the group means relative to the variability within each group. Additionally, the p-value of 0.0159099583256229, which is smaller than the predetermined significance level of 0.05, provides strong evidence against the null hypothesis. Therefore, we can conclude that there is a significant difference in the means of the groups, suggesting an effect of the treatments on the plant growth."
   ]
  },
  {
   "cell_type": "markdown",
   "id": "57174b9a",
   "metadata": {},
   "source": [
    "##### c. If there is evidence of a difference between the three means, find and comment on where this difference may be"
   ]
  },
  {
   "cell_type": "code",
   "execution_count": 54,
   "id": "d424e8f0",
   "metadata": {},
   "outputs": [],
   "source": [
    "from scipy.stats import f_oneway\n",
    "from statsmodels.stats.multicomp import pairwise_tukeyhsd"
   ]
  },
  {
   "cell_type": "markdown",
   "id": "44b4269f",
   "metadata": {},
   "source": [
    "    Perform Tukey-Kramer Analysis:"
   ]
  },
  {
   "cell_type": "code",
   "execution_count": 55,
   "id": "ff514943",
   "metadata": {},
   "outputs": [],
   "source": [
    "tukey = pairwise_tukeyhsd(endog=df['weight'],\n",
    "                          groups=df['group'],\n",
    "                          alpha=0.05)"
   ]
  },
  {
   "cell_type": "markdown",
   "id": "203cab96",
   "metadata": {},
   "source": [
    "    Display results"
   ]
  },
  {
   "cell_type": "code",
   "execution_count": 56,
   "id": "95856235",
   "metadata": {},
   "outputs": [
    {
     "name": "stdout",
     "output_type": "stream",
     "text": [
      "Multiple Comparison of Means - Tukey HSD, FWER=0.05\n",
      "===================================================\n",
      "group1 group2 meandiff p-adj   lower  upper  reject\n",
      "---------------------------------------------------\n",
      "  ctrl   trt1   -0.371 0.3909 -1.0622 0.3202  False\n",
      "  ctrl   trt2    0.494  0.198 -0.1972 1.1852  False\n",
      "  trt1   trt2    0.865  0.012  0.1738 1.5562   True\n",
      "---------------------------------------------------\n"
     ]
    }
   ],
   "source": [
    "print(tukey)"
   ]
  },
  {
   "cell_type": "markdown",
   "id": "375f2901",
   "metadata": {},
   "source": [
    "> Based on the results of the Tukey's HSD test with a family-wise error rate of 0.05, we can determine the presence or absence of significant differences between the three means (control and two treatments) in the PlantGrowth dataset.\n",
    "> The comparison between the control group (ctrl) and treatment 1 (trt1) does not show a statistically significant difference (p-adj = 0.3909), indicating that the mean values of these groups are not significantly different.\n",
    "> Similarly, the comparison between the control group (ctrl) and treatment 2 (trt2) also does not reveal a significant difference (p-adj = 0.198), suggesting that there is no meaningful distinction between the mean values of these groups.\n",
    "> However, when comparing treatment 1 (trt1) and treatment 2 (trt2), there is strong evidence of a significant difference (p-adj = 0.012), implying that the mean values of these groups are significantly different.\n",
    "> In summary, based on the Tukey's HSD test, we can conclude that there is a significant difference between the means of treatment 1 (trt1) and treatment 2 (trt2). However, there is no significant difference observed between the control group (ctrl) and either of the treatment groups (trt1 and trt2).\n",
    "\n",
    "\n",
    "\n",
    "\n",
    "\n",
    "\n"
   ]
  },
  {
   "cell_type": "markdown",
   "id": "e46e16a5",
   "metadata": {},
   "source": [
    "------------------------------------------------------------------"
   ]
  },
  {
   "cell_type": "markdown",
   "id": "a372f406",
   "metadata": {},
   "source": [
    "# <div style=\"padding:20px;color:white;margin:0;font-size:35px;font-family:arial;text-align:center;display:fill;border-radius:5px;background-color:mediumaquamarine;overflow:hidden\"><b>TASK 4</b></div>"
   ]
  },
  {
   "cell_type": "markdown",
   "id": "49ab7544",
   "metadata": {},
   "source": [
    "##### Load the trees dataset from the pydataset library. It contains measurements of the diameter, height and volume of timber in 31 felled black cherry trees. Note that the diameter (in inches) is labelled girth in the dataset. It is measured at 4 foot 6 inches above the ground."
   ]
  },
  {
   "cell_type": "markdown",
   "id": "505684f8",
   "metadata": {},
   "source": [
    "    Loading the dataset: "
   ]
  },
  {
   "cell_type": "code",
   "execution_count": 57,
   "id": "c831a421",
   "metadata": {},
   "outputs": [],
   "source": [
    "from pydataset import data\n",
    "trees = data('trees')"
   ]
  },
  {
   "cell_type": "code",
   "execution_count": 58,
   "id": "031b11f2",
   "metadata": {},
   "outputs": [
    {
     "data": {
      "text/html": [
       "<div>\n",
       "<style scoped>\n",
       "    .dataframe tbody tr th:only-of-type {\n",
       "        vertical-align: middle;\n",
       "    }\n",
       "\n",
       "    .dataframe tbody tr th {\n",
       "        vertical-align: top;\n",
       "    }\n",
       "\n",
       "    .dataframe thead th {\n",
       "        text-align: right;\n",
       "    }\n",
       "</style>\n",
       "<table border=\"1\" class=\"dataframe\">\n",
       "  <thead>\n",
       "    <tr style=\"text-align: right;\">\n",
       "      <th></th>\n",
       "      <th>Girth</th>\n",
       "      <th>Height</th>\n",
       "      <th>Volume</th>\n",
       "    </tr>\n",
       "  </thead>\n",
       "  <tbody>\n",
       "    <tr>\n",
       "      <th>1</th>\n",
       "      <td>8.3</td>\n",
       "      <td>70</td>\n",
       "      <td>10.3</td>\n",
       "    </tr>\n",
       "    <tr>\n",
       "      <th>2</th>\n",
       "      <td>8.6</td>\n",
       "      <td>65</td>\n",
       "      <td>10.3</td>\n",
       "    </tr>\n",
       "    <tr>\n",
       "      <th>3</th>\n",
       "      <td>8.8</td>\n",
       "      <td>63</td>\n",
       "      <td>10.2</td>\n",
       "    </tr>\n",
       "    <tr>\n",
       "      <th>4</th>\n",
       "      <td>10.5</td>\n",
       "      <td>72</td>\n",
       "      <td>16.4</td>\n",
       "    </tr>\n",
       "    <tr>\n",
       "      <th>5</th>\n",
       "      <td>10.7</td>\n",
       "      <td>81</td>\n",
       "      <td>18.8</td>\n",
       "    </tr>\n",
       "  </tbody>\n",
       "</table>\n",
       "</div>"
      ],
      "text/plain": [
       "   Girth  Height  Volume\n",
       "1    8.3      70    10.3\n",
       "2    8.6      65    10.3\n",
       "3    8.8      63    10.2\n",
       "4   10.5      72    16.4\n",
       "5   10.7      81    18.8"
      ]
     },
     "execution_count": 58,
     "metadata": {},
     "output_type": "execute_result"
    }
   ],
   "source": [
    "trees.head()"
   ]
  },
  {
   "cell_type": "markdown",
   "id": "abd35c83",
   "metadata": {},
   "source": [
    "##### a. Perform a correlation analysis between all numerical variables. Include and comment on the results of hypothesis tests for the population correlation coefficients between all three pairs of variables (you can use the pearsonr function from the scipy.stats library)."
   ]
  },
  {
   "cell_type": "markdown",
   "id": "b3e0317d",
   "metadata": {},
   "source": [
    "    Import the required libraries:"
   ]
  },
  {
   "cell_type": "code",
   "execution_count": 59,
   "id": "1d87876a",
   "metadata": {},
   "outputs": [],
   "source": [
    "import pandas as pd\n",
    "from scipy.stats import pearsonr"
   ]
  },
  {
   "cell_type": "markdown",
   "id": "bc629a49",
   "metadata": {},
   "source": [
    "    Now, let's perform a correlation analysis between all numerical variables using the .corr()"
   ]
  },
  {
   "cell_type": "code",
   "execution_count": 60,
   "id": "074d7e06",
   "metadata": {},
   "outputs": [
    {
     "name": "stdout",
     "output_type": "stream",
     "text": [
      "           Girth   Height    Volume\n",
      "Girth   1.000000  0.51928  0.967119\n",
      "Height  0.519280  1.00000  0.598250\n",
      "Volume  0.967119  0.59825  1.000000\n"
     ]
    }
   ],
   "source": [
    "corr_matrix = trees.corr()\n",
    "print(corr_matrix)"
   ]
  },
  {
   "cell_type": "markdown",
   "id": "6bce46d4",
   "metadata": {},
   "source": [
    "> Knowing that the correlation coefficient ranges from -1 to 1, where values ​​closer to 1 indicate a strong positive relationship, values ​​closer to -1 indicate a strong negative relationship, and values ​​close to 0 indicate a weak relationship or no relationship.\n",
    "\n",
    "So we can conclude that the correlation matrix reveals:\n",
    "\n",
    "> * <u>Girth and Volume</u> have a strong positive correlation of 0.967, indicating that as the girth of a tree increases, its volume also tends to increase proportionally. This suggests that girth can be a reliable predictor of tree volume.\n",
    "   \n",
    "> * <u>Height and Volume</u> have a moderate positive correlation of 0.598, suggesting that as the height of a tree increases, its volume also tends to increase, albeit to a lesser extent compared to the relationship between girth and volume.\n",
    "   \n",
    "> * <u>Girth and Height</u> have a moderate positive correlation of 0.519, implying that there is some association between the girth and height of trees, but the relationship is not as strong as the correlation between girth and volume or height and volume."
   ]
  },
  {
   "cell_type": "markdown",
   "id": "9d5013d1",
   "metadata": {},
   "source": [
    "    Now, let's perform hypothesis tests for the population correlation coefficients between all three pairs of variables using the .pearsonr() function from the scipy.stats library."
   ]
  },
  {
   "cell_type": "code",
   "execution_count": 61,
   "id": "5d0b9395",
   "metadata": {},
   "outputs": [
    {
     "name": "stdout",
     "output_type": "stream",
     "text": [
      "Correlation coefficient between Girth and Volume: 0.9671, p-value: 0.0000\n",
      "Correlation coefficient between Girth and Height: 0.5193, p-value: 0.0028\n",
      "Correlation coefficient between Height and Volume: 0.5982, p-value: 0.0004\n"
     ]
    }
   ],
   "source": [
    "r_gv, p_gv = pearsonr(trees['Girth'], trees['Volume'])\n",
    "r_gh, p_gh = pearsonr(trees['Girth'], trees['Height'])\n",
    "r_hv, p_hv = pearsonr(trees['Height'], trees['Volume'])\n",
    "\n",
    "print(f\"Correlation coefficient between Girth and Volume: {r_gv:.4f}, p-value: {p_gv:.4f}\")\n",
    "print(f\"Correlation coefficient between Girth and Height: {r_gh:.4f}, p-value: {p_gh:.4f}\")\n",
    "print(f\"Correlation coefficient between Height and Volume: {r_hv:.4f}, p-value: {p_hv:.4f}\")"
   ]
  },
  {
   "cell_type": "markdown",
   "id": "d7abf4bb",
   "metadata": {},
   "source": [
    "> We can see that all three correlation coefficients are statistically significant at the 0.05 level (p-values < 0.05), indicating that there is strong evidence of linear association between each pair of variables. Specifically, the high correlation coefficient between *Girth and Volume* suggests that the diameter of the tree is a good predictor of its <u>volume</u>, while the moderate correlation coefficient between *Height and Volume* suggests that the <u>height</u> of the tree is also a reasonable predictor of its volume."
   ]
  },
  {
   "cell_type": "markdown",
   "id": "c0dfd2dc",
   "metadata": {},
   "source": [
    "##### b. There is interest in estimating the volume of timber from trees using either the girth or the height of the trees, or both. Perform a regression analysis to decide which of the three possible models you would recommend using. Interpret your results and provide a short conclusion of your findings."
   ]
  },
  {
   "cell_type": "markdown",
   "id": "1e745cd5",
   "metadata": {},
   "source": [
    "    Performing a regression analysis using the variables Girth and Height as predictors and Volume as the target variable. This will help to determine the relationship between the predictors and the target variable and evaluate their effectiveness in predicting the volume of timber."
   ]
  },
  {
   "cell_type": "markdown",
   "id": "ea2932a2",
   "metadata": {},
   "source": [
    "    Import the required libraries:"
   ]
  },
  {
   "cell_type": "code",
   "execution_count": 62,
   "id": "86926e61",
   "metadata": {},
   "outputs": [],
   "source": [
    "import statsmodels.api as sm"
   ]
  },
  {
   "cell_type": "markdown",
   "id": "292bc690",
   "metadata": {},
   "source": [
    "    Add a constant term for the intercept"
   ]
  },
  {
   "cell_type": "code",
   "execution_count": 63,
   "id": "a5dc9399",
   "metadata": {},
   "outputs": [],
   "source": [
    "X = sm.add_constant(trees[['Girth', 'Height']])\n",
    "y = trees['Volume']"
   ]
  },
  {
   "cell_type": "markdown",
   "id": "ddf60052",
   "metadata": {},
   "source": [
    "    Fiting the multiple linear regression model"
   ]
  },
  {
   "cell_type": "code",
   "execution_count": 64,
   "id": "76d9d387",
   "metadata": {},
   "outputs": [],
   "source": [
    "model = sm.OLS(y, X).fit()"
   ]
  },
  {
   "cell_type": "markdown",
   "id": "87900f94",
   "metadata": {},
   "source": [
    "    Printing the model summary"
   ]
  },
  {
   "cell_type": "code",
   "execution_count": 65,
   "id": "decb7a4d",
   "metadata": {},
   "outputs": [
    {
     "name": "stdout",
     "output_type": "stream",
     "text": [
      "                            OLS Regression Results                            \n",
      "==============================================================================\n",
      "Dep. Variable:                 Volume   R-squared:                       0.948\n",
      "Model:                            OLS   Adj. R-squared:                  0.944\n",
      "Method:                 Least Squares   F-statistic:                     255.0\n",
      "Date:                Mon, 22 May 2023   Prob (F-statistic):           1.07e-18\n",
      "Time:                        18:07:51   Log-Likelihood:                -84.455\n",
      "No. Observations:                  31   AIC:                             174.9\n",
      "Df Residuals:                      28   BIC:                             179.2\n",
      "Df Model:                           2                                         \n",
      "Covariance Type:            nonrobust                                         \n",
      "==============================================================================\n",
      "                 coef    std err          t      P>|t|      [0.025      0.975]\n",
      "------------------------------------------------------------------------------\n",
      "const        -57.9877      8.638     -6.713      0.000     -75.682     -40.293\n",
      "Girth          4.7082      0.264     17.816      0.000       4.167       5.249\n",
      "Height         0.3393      0.130      2.607      0.014       0.073       0.606\n",
      "==============================================================================\n",
      "Omnibus:                        0.923   Durbin-Watson:                   1.266\n",
      "Prob(Omnibus):                  0.630   Jarque-Bera (JB):                0.950\n",
      "Skew:                           0.310   Prob(JB):                        0.622\n",
      "Kurtosis:                       2.408   Cond. No.                         959.\n",
      "==============================================================================\n",
      "\n",
      "Notes:\n",
      "[1] Standard Errors assume that the covariance matrix of the errors is correctly specified.\n"
     ]
    }
   ],
   "source": [
    "print(model.summary())"
   ]
  },
  {
   "cell_type": "markdown",
   "id": "8341ffb6",
   "metadata": {},
   "source": [
    "    \n",
    "> The regression model demonstrates a strong relationship between the predictors (Girth and Height) and the dependent variable (Volume). The coefficients indicate that both *Girth and Height* have a positive impact on the volume, with *Girth* having a larger effect. The model as a whole is statistically significant, suggesting that the predictors jointly contribute to explaining the variation in the *Volume*. \n",
    "    \n",
    "> * <u>Significance of coefficients:</u> Both the coefficient estimates for Girth and Height are statistically significant (p < 0.05), indicating that these variables have a significant impact on the volume of timber. In other words, changes in girth and height are associated with changes in the volume of timber, and these relationships are not likely due to chance.\n",
    "\n",
    "> * <u>Interactions between variables:</u> The positive correlation between Girth and Volume suggests that as the girth of a tree increases, its volume tends to increase as well. Similarly, the positive correlation between Height and Volume indicates that taller trees generally have larger volumes. The moderate positive correlation between Girth and Height suggests that as the girth of a tree increases, its height tends to increase, although the relationship is not as strong as the correlations with volume.\n",
    "\n",
    "> Overall, these findings demonstrate the interplay between girth, height, and volume in determining the size of timber trees."
   ]
  }
 ],
 "metadata": {
  "kernelspec": {
   "display_name": "Python 3 (ipykernel)",
   "language": "python",
   "name": "python3"
  },
  "language_info": {
   "codemirror_mode": {
    "name": "ipython",
    "version": 3
   },
   "file_extension": ".py",
   "mimetype": "text/x-python",
   "name": "python",
   "nbconvert_exporter": "python",
   "pygments_lexer": "ipython3",
   "version": "3.9.13"
  }
 },
 "nbformat": 4,
 "nbformat_minor": 5
}
